{
 "cells": [
  {
   "cell_type": "code",
   "execution_count": null,
   "id": "f0a3e55a",
   "metadata": {},
   "outputs": [],
   "source": [
    "from google.colab import drive\n",
    "drive.mount('/content/drive')"
   ]
  },
  {
   "cell_type": "code",
   "execution_count": null,
   "id": "da0e2bef",
   "metadata": {},
   "outputs": [],
   "source": [
    "# Colab DreamBooth Notebook - Especulativo de Biodiversidad Colombiana (Plug & Play)\n",
    "# Ejecuta 100% en Google Colab usando tu carpeta de Drive 'Dreambooth_Bio'.\n",
    "\n",
    "# ==========================\n",
    "# 0. Montar Google Drive\n",
    "# ==========================\n",
    "from google.colab import drive\n",
    "import os\n",
    "\n",
    "drive.mount('/content/drive')  # Autoriza acceso a tu Drive\n",
    "# Define ruta a tu carpeta de imágenes en Drive\n",
    "dataset_dir = '/content/drive/MyDrive/'\n",
    "# Verifica que la carpeta exista y contenga imágenes\n",
    "if not os.path.isdir(dataset_dir):\n",
    "    raise FileNotFoundError(f\"No existe la carpeta: {dataset_dir}\")\n",
    "imgs = [f for f in os.listdir(dataset_dir) if f.lower().endswith(('.png','.jpg','.jpeg'))]\n",
    "print(f\"Imágenes encontradas en Drive: {len(imgs)} (recomendado 20-50)\")\n",
    "if len(imgs) < 10:\n",
    "    raise ValueError(\"Sube al menos 10 imágenes a Dreambooth_Bio en tu Drive antes de continuar.\")\n",
    "\n",
    "# =========================="
   ]
  }
 ],
 "metadata": {
  "language_info": {
   "name": "python"
  }
 },
 "nbformat": 4,
 "nbformat_minor": 5
}
